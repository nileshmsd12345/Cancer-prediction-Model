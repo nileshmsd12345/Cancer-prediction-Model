{
  "nbformat": 4,
  "nbformat_minor": 0,
  "metadata": {
    "colab": {
      "name": "DiabeticsPrediction.ipynb",
      "provenance": []
    },
    "kernelspec": {
      "name": "python3",
      "display_name": "Python 3"
    },
    "language_info": {
      "name": "python"
    }
  },
  "cells": [
    {
      "cell_type": "code",
      "metadata": {
        "colab": {
          "resources": {
            "http://localhost:8080/nbextensions/google.colab/files.js": {
              "data": "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",
              "ok": true,
              "headers": [
                [
                  "content-type",
                  "application/javascript"
                ]
              ],
              "status": 200,
              "status_text": ""
            }
          },
          "base_uri": "https://localhost:8080/",
          "height": 73
        },
        "id": "wRx0kClwzWWO",
        "outputId": "8321c582-b266-483b-df00-d8223849e863"
      },
      "source": [
        "from google.colab import files\n",
        "uploaded = files.upload()\n"
      ],
      "execution_count": 1,
      "outputs": [
        {
          "output_type": "display_data",
          "data": {
            "text/html": [
              "\n",
              "     <input type=\"file\" id=\"files-b370017f-b947-47f8-a9e7-29e7f778909e\" name=\"files[]\" multiple disabled\n",
              "        style=\"border:none\" />\n",
              "     <output id=\"result-b370017f-b947-47f8-a9e7-29e7f778909e\">\n",
              "      Upload widget is only available when the cell has been executed in the\n",
              "      current browser session. Please rerun this cell to enable.\n",
              "      </output>\n",
              "      <script src=\"/nbextensions/google.colab/files.js\"></script> "
            ],
            "text/plain": [
              "<IPython.core.display.HTML object>"
            ]
          },
          "metadata": {
            "tags": []
          }
        },
        {
          "output_type": "stream",
          "text": [
            "Saving diabetes.csv to diabetes.csv\n"
          ],
          "name": "stdout"
        }
      ]
    },
    {
      "cell_type": "code",
      "metadata": {
        "id": "HXX6pacIz0_z"
      },
      "source": [
        "import pandas as pd\n",
        "import numpy as np\n",
        "import matplotlib.pyplot as plt\n",
        "import seaborn as sns"
      ],
      "execution_count": 4,
      "outputs": []
    },
    {
      "cell_type": "code",
      "metadata": {
        "id": "OAGW85Emz_m0"
      },
      "source": [
        "import io\n",
        "df = pd.read_csv(io.BytesIO(uploaded['diabetes.csv']))"
      ],
      "execution_count": 5,
      "outputs": []
    },
    {
      "cell_type": "code",
      "metadata": {
        "colab": {
          "base_uri": "https://localhost:8080/",
          "height": 203
        },
        "id": "onz-gfwZ0ISX",
        "outputId": "66190dbc-42ac-4510-9a56-541a248b1bfb"
      },
      "source": [
        "df.head()\n"
      ],
      "execution_count": 6,
      "outputs": [
        {
          "output_type": "execute_result",
          "data": {
            "text/html": [
              "<div>\n",
              "<style scoped>\n",
              "    .dataframe tbody tr th:only-of-type {\n",
              "        vertical-align: middle;\n",
              "    }\n",
              "\n",
              "    .dataframe tbody tr th {\n",
              "        vertical-align: top;\n",
              "    }\n",
              "\n",
              "    .dataframe thead th {\n",
              "        text-align: right;\n",
              "    }\n",
              "</style>\n",
              "<table border=\"1\" class=\"dataframe\">\n",
              "  <thead>\n",
              "    <tr style=\"text-align: right;\">\n",
              "      <th></th>\n",
              "      <th>Pregnancies</th>\n",
              "      <th>Glucose</th>\n",
              "      <th>BloodPressure</th>\n",
              "      <th>SkinThickness</th>\n",
              "      <th>Insulin</th>\n",
              "      <th>BMI</th>\n",
              "      <th>DiabetesPedigreeFunction</th>\n",
              "      <th>Age</th>\n",
              "      <th>Outcome</th>\n",
              "    </tr>\n",
              "  </thead>\n",
              "  <tbody>\n",
              "    <tr>\n",
              "      <th>0</th>\n",
              "      <td>6</td>\n",
              "      <td>148</td>\n",
              "      <td>72</td>\n",
              "      <td>35</td>\n",
              "      <td>0</td>\n",
              "      <td>33.6</td>\n",
              "      <td>0.627</td>\n",
              "      <td>50</td>\n",
              "      <td>1</td>\n",
              "    </tr>\n",
              "    <tr>\n",
              "      <th>1</th>\n",
              "      <td>1</td>\n",
              "      <td>85</td>\n",
              "      <td>66</td>\n",
              "      <td>29</td>\n",
              "      <td>0</td>\n",
              "      <td>26.6</td>\n",
              "      <td>0.351</td>\n",
              "      <td>31</td>\n",
              "      <td>0</td>\n",
              "    </tr>\n",
              "    <tr>\n",
              "      <th>2</th>\n",
              "      <td>8</td>\n",
              "      <td>183</td>\n",
              "      <td>64</td>\n",
              "      <td>0</td>\n",
              "      <td>0</td>\n",
              "      <td>23.3</td>\n",
              "      <td>0.672</td>\n",
              "      <td>32</td>\n",
              "      <td>1</td>\n",
              "    </tr>\n",
              "    <tr>\n",
              "      <th>3</th>\n",
              "      <td>1</td>\n",
              "      <td>89</td>\n",
              "      <td>66</td>\n",
              "      <td>23</td>\n",
              "      <td>94</td>\n",
              "      <td>28.1</td>\n",
              "      <td>0.167</td>\n",
              "      <td>21</td>\n",
              "      <td>0</td>\n",
              "    </tr>\n",
              "    <tr>\n",
              "      <th>4</th>\n",
              "      <td>0</td>\n",
              "      <td>137</td>\n",
              "      <td>40</td>\n",
              "      <td>35</td>\n",
              "      <td>168</td>\n",
              "      <td>43.1</td>\n",
              "      <td>2.288</td>\n",
              "      <td>33</td>\n",
              "      <td>1</td>\n",
              "    </tr>\n",
              "  </tbody>\n",
              "</table>\n",
              "</div>"
            ],
            "text/plain": [
              "   Pregnancies  Glucose  BloodPressure  ...  DiabetesPedigreeFunction  Age  Outcome\n",
              "0            6      148             72  ...                     0.627   50        1\n",
              "1            1       85             66  ...                     0.351   31        0\n",
              "2            8      183             64  ...                     0.672   32        1\n",
              "3            1       89             66  ...                     0.167   21        0\n",
              "4            0      137             40  ...                     2.288   33        1\n",
              "\n",
              "[5 rows x 9 columns]"
            ]
          },
          "metadata": {
            "tags": []
          },
          "execution_count": 6
        }
      ]
    },
    {
      "cell_type": "code",
      "metadata": {
        "colab": {
          "base_uri": "https://localhost:8080/"
        },
        "id": "w7FgxD1P0Nod",
        "outputId": "3733b21b-2922-4e0e-e9f0-db94031f2e61"
      },
      "source": [
        "df.shape\n"
      ],
      "execution_count": 7,
      "outputs": [
        {
          "output_type": "execute_result",
          "data": {
            "text/plain": [
              "(768, 9)"
            ]
          },
          "metadata": {
            "tags": []
          },
          "execution_count": 7
        }
      ]
    },
    {
      "cell_type": "code",
      "metadata": {
        "colab": {
          "base_uri": "https://localhost:8080/",
          "height": 296
        },
        "id": "T0F9wzmF0gGL",
        "outputId": "5579e39c-e8a9-487a-8db9-b5653d04a89f"
      },
      "source": [
        "sns.countplot(x='Outcome',data=df)"
      ],
      "execution_count": 8,
      "outputs": [
        {
          "output_type": "execute_result",
          "data": {
            "text/plain": [
              "<matplotlib.axes._subplots.AxesSubplot at 0x7fb0b84a5c50>"
            ]
          },
          "metadata": {
            "tags": []
          },
          "execution_count": 8
        },
        {
          "output_type": "display_data",
          "data": {
            "image/png": "[encoded data removed]",
            "text/plain": [
              "<Figure size 432x288 with 1 Axes>"
            ]
          },
          "metadata": {
            "tags": [],
            "needs_background": "light"
          }
        }
      ]
    },
    {
      "cell_type": "code",
      "metadata": {
        "colab": {
          "base_uri": "https://localhost:8080/",
          "height": 403
        },
        "id": "Av8UPoyI0rDF",
        "outputId": "400db91b-a3e6-4561-a523-31d11126ea84"
      },
      "source": [
        "df.corr()['Outcome'].sort_values().plot(kind='bar')"
      ],
      "execution_count": 9,
      "outputs": [
        {
          "output_type": "execute_result",
          "data": {
            "text/plain": [
              "<matplotlib.axes._subplots.AxesSubplot at 0x7fb0b77c8b10>"
            ]
          },
          "metadata": {
            "tags": []
          },
          "execution_count": 9
        },
        {
          "output_type": "display_data",
          "data": {
            "image/png": "[encoded data removed]",
            "text/plain": [
              "<Figure size 432x288 with 1 Axes>"
            ]
          },
          "metadata": {
            "tags": [],
            "needs_background": "light"
          }
        }
      ]
    },
    {
      "cell_type": "code",
      "metadata": {
        "id": "Jm8ZS1qS05Is"
      },
      "source": [
        "X=df.drop('Outcome',axis=1).values\n",
        "y=df['Outcome'].values"
      ],
      "execution_count": 10,
      "outputs": []
    },
    {
      "cell_type": "code",
      "metadata": {
        "id": "GEZHUmeJ1oU1"
      },
      "source": [
        "from sklearn.model_selection import train_test_split\n"
      ],
      "execution_count": 11,
      "outputs": []
    },
    {
      "cell_type": "code",
      "metadata": {
        "id": "jQYgKFF51ta0"
      },
      "source": [
        "X_train, X_test, y_train, y_test = train_test_split(\n",
        "X, y, test_size=0.25, random_state=101)"
      ],
      "execution_count": 12,
      "outputs": []
    },
    {
      "cell_type": "code",
      "metadata": {
        "id": "Bryg5MK31yMD"
      },
      "source": [
        "from sklearn.preprocessing import MinMaxScaler"
      ],
      "execution_count": 13,
      "outputs": []
    },
    {
      "cell_type": "code",
      "metadata": {
        "id": "UDCaAny212RZ"
      },
      "source": [
        "scaler= MinMaxScaler()"
      ],
      "execution_count": 14,
      "outputs": []
    },
    {
      "cell_type": "code",
      "metadata": {
        "id": "HCMPOYph17Y8"
      },
      "source": [
        "X_train =scaler.fit_transform(X_train)"
      ],
      "execution_count": 15,
      "outputs": []
    },
    {
      "cell_type": "code",
      "metadata": {
        "id": "RhKU65e61_zU"
      },
      "source": [
        "X_test =scaler.transform(X_test)"
      ],
      "execution_count": 16,
      "outputs": []
    },
    {
      "cell_type": "code",
      "metadata": {
        "id": "T4ZxNYzn2ERK"
      },
      "source": [
        "from tensorflow.keras.models import Sequential"
      ],
      "execution_count": 17,
      "outputs": []
    },
    {
      "cell_type": "code",
      "metadata": {
        "id": "U7V_ayvy2ISN"
      },
      "source": [
        "from tensorflow.keras.layers import Dense,Dropout"
      ],
      "execution_count": 18,
      "outputs": []
    },
    {
      "cell_type": "code",
      "metadata": {
        "colab": {
          "base_uri": "https://localhost:8080/"
        },
        "id": "8SLHzbKy2LnR",
        "outputId": "a3a3e3d2-853d-49f2-b596-2d6acebf84d9"
      },
      "source": [
        "X_train.shape"
      ],
      "execution_count": 19,
      "outputs": [
        {
          "output_type": "execute_result",
          "data": {
            "text/plain": [
              "(576, 8)"
            ]
          },
          "metadata": {
            "tags": []
          },
          "execution_count": 19
        }
      ]
    },
    {
      "cell_type": "code",
      "metadata": {
        "id": "oO_LWdsu2Pq1"
      },
      "source": [
        "model =Sequential()\n",
        "\n",
        "model.add(Dense(30,activation='relu'))\n",
        "\n",
        "model.add(Dense(15,activation='relu'))\n",
        "\n",
        "#BINARY CLASSIFICATION\n",
        "model.add(Dense(1,activation='sigmoid'))\n",
        "\n",
        "model.compile(loss='binary_crossentropy',optimizer='adam')"
      ],
      "execution_count": 20,
      "outputs": []
    },
    {
      "cell_type": "code",
      "metadata": {
        "colab": {
          "base_uri": "https://localhost:8080/"
        },
        "id": "tbXWd9YK2bkx",
        "outputId": "62bdd01a-30a4-42fd-ede3-c6daad913de8"
      },
      "source": [
        "model.fit(x=X_train,y=y_train,epochs=200,validation_data=(X_test,y_test))"
      ],
      "execution_count": 21,
      "outputs": [
        {
          "output_type": "stream",
          "text": [
            "Epoch 1/200\n",
            "18/18 [==============================] - 1s 16ms/step - loss: 0.6696 - val_loss: 0.6503\n",
            "Epoch 2/200\n",
            "18/18 [==============================] - 0s 3ms/step - loss: 0.6440 - val_loss: 0.6395\n",
            "Epoch 3/200\n",
            "18/18 [==============================] - 0s 3ms/step - loss: 0.6376 - val_loss: 0.6330\n",
            "Epoch 4/200\n",
            "18/18 [==============================] - 0s 2ms/step - loss: 0.6318 - val_loss: 0.6266\n",
            "Epoch 5/200\n",
            "18/18 [==============================] - 0s 2ms/step - loss: 0.6247 - val_loss: 0.6201\n",
            "Epoch 6/200\n",
            "18/18 [==============================] - 0s 2ms/step - loss: 0.6198 - val_loss: 0.6136\n",
            "Epoch 7/200\n",
            "18/18 [==============================] - 0s 2ms/step - loss: 0.6129 - val_loss: 0.6071\n",
            "Epoch 8/200\n",
            "18/18 [==============================] - 0s 3ms/step - loss: 0.6072 - val_loss: 0.6003\n",
            "Epoch 9/200\n",
            "18/18 [==============================] - 0s 2ms/step - loss: 0.5998 - val_loss: 0.5918\n",
            "Epoch 10/200\n",
            "18/18 [==============================] - 0s 2ms/step - loss: 0.5920 - val_loss: 0.5835\n",
            "Epoch 11/200\n",
            "18/18 [==============================] - 0s 3ms/step - loss: 0.5840 - val_loss: 0.5751\n",
            "Epoch 12/200\n",
            "18/18 [==============================] - 0s 3ms/step - loss: 0.5786 - val_loss: 0.5669\n",
            "Epoch 13/200\n",
            "18/18 [==============================] - 0s 3ms/step - loss: 0.5703 - val_loss: 0.5598\n",
            "Epoch 14/200\n",
            "18/18 [==============================] - 0s 2ms/step - loss: 0.5636 - val_loss: 0.5529\n",
            "Epoch 15/200\n",
            "18/18 [==============================] - 0s 2ms/step - loss: 0.5575 - val_loss: 0.5462\n",
            "Epoch 16/200\n",
            "18/18 [==============================] - 0s 2ms/step - loss: 0.5501 - val_loss: 0.5401\n",
            "Epoch 17/200\n",
            "18/18 [==============================] - 0s 3ms/step - loss: 0.5442 - val_loss: 0.5337\n",
            "Epoch 18/200\n",
            "18/18 [==============================] - 0s 2ms/step - loss: 0.5391 - val_loss: 0.5290\n",
            "Epoch 19/200\n",
            "18/18 [==============================] - 0s 2ms/step - loss: 0.5333 - val_loss: 0.5223\n",
            "Epoch 20/200\n",
            "18/18 [==============================] - 0s 3ms/step - loss: 0.5270 - val_loss: 0.5171\n",
            "Epoch 21/200\n",
            "18/18 [==============================] - 0s 2ms/step - loss: 0.5206 - val_loss: 0.5119\n",
            "Epoch 22/200\n",
            "18/18 [==============================] - 0s 3ms/step - loss: 0.5147 - val_loss: 0.5074\n",
            "Epoch 23/200\n",
            "18/18 [==============================] - 0s 2ms/step - loss: 0.5100 - val_loss: 0.5026\n",
            "Epoch 24/200\n",
            "18/18 [==============================] - 0s 2ms/step - loss: 0.5065 - val_loss: 0.4992\n",
            "Epoch 25/200\n",
            "18/18 [==============================] - 0s 2ms/step - loss: 0.5027 - val_loss: 0.4954\n",
            "Epoch 26/200\n",
            "18/18 [==============================] - 0s 3ms/step - loss: 0.4961 - val_loss: 0.4908\n",
            "Epoch 27/200\n",
            "18/18 [==============================] - 0s 2ms/step - loss: 0.4927 - val_loss: 0.4876\n",
            "Epoch 28/200\n",
            "18/18 [==============================] - 0s 2ms/step - loss: 0.4878 - val_loss: 0.4840\n",
            "Epoch 29/200\n",
            "18/18 [==============================] - 0s 2ms/step - loss: 0.4847 - val_loss: 0.4810\n",
            "Epoch 30/200\n",
            "18/18 [==============================] - 0s 4ms/step - loss: 0.4818 - val_loss: 0.4787\n",
            "Epoch 31/200\n",
            "18/18 [==============================] - 0s 3ms/step - loss: 0.4809 - val_loss: 0.4776\n",
            "Epoch 32/200\n",
            "18/18 [==============================] - 0s 3ms/step - loss: 0.4767 - val_loss: 0.4731\n",
            "Epoch 33/200\n",
            "18/18 [==============================] - 0s 2ms/step - loss: 0.4698 - val_loss: 0.4707\n",
            "Epoch 34/200\n",
            "18/18 [==============================] - 0s 3ms/step - loss: 0.4687 - val_loss: 0.4690\n",
            "Epoch 35/200\n",
            "18/18 [==============================] - 0s 2ms/step - loss: 0.4663 - val_loss: 0.4717\n",
            "Epoch 36/200\n",
            "18/18 [==============================] - 0s 3ms/step - loss: 0.4618 - val_loss: 0.4648\n",
            "Epoch 37/200\n",
            "18/18 [==============================] - 0s 2ms/step - loss: 0.4617 - val_loss: 0.4636\n",
            "Epoch 38/200\n",
            "18/18 [==============================] - 0s 2ms/step - loss: 0.4589 - val_loss: 0.4619\n",
            "Epoch 39/200\n",
            "18/18 [==============================] - 0s 3ms/step - loss: 0.4555 - val_loss: 0.4625\n",
            "Epoch 40/200\n",
            "18/18 [==============================] - 0s 2ms/step - loss: 0.4565 - val_loss: 0.4631\n",
            "Epoch 41/200\n",
            "18/18 [==============================] - 0s 2ms/step - loss: 0.4563 - val_loss: 0.4666\n",
            "Epoch 42/200\n",
            "18/18 [==============================] - 0s 3ms/step - loss: 0.4610 - val_loss: 0.4577\n",
            "Epoch 43/200\n",
            "18/18 [==============================] - 0s 3ms/step - loss: 0.4495 - val_loss: 0.4608\n",
            "Epoch 44/200\n",
            "18/18 [==============================] - 0s 2ms/step - loss: 0.4506 - val_loss: 0.4549\n",
            "Epoch 45/200\n",
            "18/18 [==============================] - 0s 2ms/step - loss: 0.4477 - val_loss: 0.4550\n",
            "Epoch 46/200\n",
            "18/18 [==============================] - 0s 2ms/step - loss: 0.4486 - val_loss: 0.4568\n",
            "Epoch 47/200\n",
            "18/18 [==============================] - 0s 2ms/step - loss: 0.4469 - val_loss: 0.4569\n",
            "Epoch 48/200\n",
            "18/18 [==============================] - 0s 3ms/step - loss: 0.4435 - val_loss: 0.4547\n",
            "Epoch 49/200\n",
            "18/18 [==============================] - 0s 3ms/step - loss: 0.4462 - val_loss: 0.4612\n",
            "Epoch 50/200\n",
            "18/18 [==============================] - 0s 2ms/step - loss: 0.4441 - val_loss: 0.4524\n",
            "Epoch 51/200\n",
            "18/18 [==============================] - 0s 3ms/step - loss: 0.4435 - val_loss: 0.4533\n",
            "Epoch 52/200\n",
            "18/18 [==============================] - 0s 2ms/step - loss: 0.4409 - val_loss: 0.4520\n",
            "Epoch 53/200\n",
            "18/18 [==============================] - 0s 3ms/step - loss: 0.4398 - val_loss: 0.4530\n",
            "Epoch 54/200\n",
            "18/18 [==============================] - 0s 2ms/step - loss: 0.4381 - val_loss: 0.4525\n",
            "Epoch 55/200\n",
            "18/18 [==============================] - 0s 3ms/step - loss: 0.4411 - val_loss: 0.4548\n",
            "Epoch 56/200\n",
            "18/18 [==============================] - 0s 3ms/step - loss: 0.4397 - val_loss: 0.4532\n",
            "Epoch 57/200\n",
            "18/18 [==============================] - 0s 3ms/step - loss: 0.4379 - val_loss: 0.4557\n",
            "Epoch 58/200\n",
            "18/18 [==============================] - 0s 3ms/step - loss: 0.4381 - val_loss: 0.4520\n",
            "Epoch 59/200\n",
            "18/18 [==============================] - 0s 3ms/step - loss: 0.4352 - val_loss: 0.4537\n",
            "Epoch 60/200\n",
            "18/18 [==============================] - 0s 3ms/step - loss: 0.4372 - val_loss: 0.4516\n",
            "Epoch 61/200\n",
            "18/18 [==============================] - 0s 4ms/step - loss: 0.4339 - val_loss: 0.4521\n",
            "Epoch 62/200\n",
            "18/18 [==============================] - 0s 2ms/step - loss: 0.4342 - val_loss: 0.4522\n",
            "Epoch 63/200\n",
            "18/18 [==============================] - 0s 3ms/step - loss: 0.4334 - val_loss: 0.4518\n",
            "Epoch 64/200\n",
            "18/18 [==============================] - 0s 2ms/step - loss: 0.4337 - val_loss: 0.4528\n",
            "Epoch 65/200\n",
            "18/18 [==============================] - 0s 3ms/step - loss: 0.4360 - val_loss: 0.4582\n",
            "Epoch 66/200\n",
            "18/18 [==============================] - 0s 2ms/step - loss: 0.4328 - val_loss: 0.4515\n",
            "Epoch 67/200\n",
            "18/18 [==============================] - 0s 3ms/step - loss: 0.4333 - val_loss: 0.4562\n",
            "Epoch 68/200\n",
            "18/18 [==============================] - 0s 2ms/step - loss: 0.4352 - val_loss: 0.4525\n",
            "Epoch 69/200\n",
            "18/18 [==============================] - 0s 2ms/step - loss: 0.4346 - val_loss: 0.4531\n",
            "Epoch 70/200\n",
            "18/18 [==============================] - 0s 3ms/step - loss: 0.4368 - val_loss: 0.4510\n",
            "Epoch 71/200\n",
            "18/18 [==============================] - 0s 2ms/step - loss: 0.4303 - val_loss: 0.4541\n",
            "Epoch 72/200\n",
            "18/18 [==============================] - 0s 3ms/step - loss: 0.4287 - val_loss: 0.4520\n",
            "Epoch 73/200\n",
            "18/18 [==============================] - 0s 2ms/step - loss: 0.4294 - val_loss: 0.4524\n",
            "Epoch 74/200\n",
            "18/18 [==============================] - 0s 2ms/step - loss: 0.4292 - val_loss: 0.4532\n",
            "Epoch 75/200\n",
            "18/18 [==============================] - 0s 3ms/step - loss: 0.4305 - val_loss: 0.4579\n",
            "Epoch 76/200\n",
            "18/18 [==============================] - 0s 3ms/step - loss: 0.4355 - val_loss: 0.4524\n",
            "Epoch 77/200\n",
            "18/18 [==============================] - 0s 3ms/step - loss: 0.4288 - val_loss: 0.4522\n",
            "Epoch 78/200\n",
            "18/18 [==============================] - 0s 3ms/step - loss: 0.4261 - val_loss: 0.4518\n",
            "Epoch 79/200\n",
            "18/18 [==============================] - 0s 2ms/step - loss: 0.4276 - val_loss: 0.4562\n",
            "Epoch 80/200\n",
            "18/18 [==============================] - 0s 3ms/step - loss: 0.4325 - val_loss: 0.4519\n",
            "Epoch 81/200\n",
            "18/18 [==============================] - 0s 2ms/step - loss: 0.4251 - val_loss: 0.4600\n",
            "Epoch 82/200\n",
            "18/18 [==============================] - 0s 2ms/step - loss: 0.4286 - val_loss: 0.4522\n",
            "Epoch 83/200\n",
            "18/18 [==============================] - 0s 2ms/step - loss: 0.4248 - val_loss: 0.4555\n",
            "Epoch 84/200\n",
            "18/18 [==============================] - 0s 3ms/step - loss: 0.4263 - val_loss: 0.4523\n",
            "Epoch 85/200\n",
            "18/18 [==============================] - 0s 3ms/step - loss: 0.4265 - val_loss: 0.4512\n",
            "Epoch 86/200\n",
            "18/18 [==============================] - 0s 2ms/step - loss: 0.4259 - val_loss: 0.4604\n",
            "Epoch 87/200\n",
            "18/18 [==============================] - 0s 3ms/step - loss: 0.4246 - val_loss: 0.4534\n",
            "Epoch 88/200\n",
            "18/18 [==============================] - 0s 2ms/step - loss: 0.4278 - val_loss: 0.4579\n",
            "Epoch 89/200\n",
            "18/18 [==============================] - 0s 2ms/step - loss: 0.4262 - val_loss: 0.4555\n",
            "Epoch 90/200\n",
            "18/18 [==============================] - 0s 3ms/step - loss: 0.4289 - val_loss: 0.4634\n",
            "Epoch 91/200\n",
            "18/18 [==============================] - 0s 3ms/step - loss: 0.4306 - val_loss: 0.4554\n",
            "Epoch 92/200\n",
            "18/18 [==============================] - 0s 3ms/step - loss: 0.4247 - val_loss: 0.4527\n",
            "Epoch 93/200\n",
            "18/18 [==============================] - 0s 3ms/step - loss: 0.4241 - val_loss: 0.4558\n",
            "Epoch 94/200\n",
            "18/18 [==============================] - 0s 2ms/step - loss: 0.4227 - val_loss: 0.4543\n",
            "Epoch 95/200\n",
            "18/18 [==============================] - 0s 2ms/step - loss: 0.4213 - val_loss: 0.4571\n",
            "Epoch 96/200\n",
            "18/18 [==============================] - 0s 3ms/step - loss: 0.4230 - val_loss: 0.4539\n",
            "Epoch 97/200\n",
            "18/18 [==============================] - 0s 3ms/step - loss: 0.4207 - val_loss: 0.4546\n",
            "Epoch 98/200\n",
            "18/18 [==============================] - 0s 2ms/step - loss: 0.4206 - val_loss: 0.4552\n",
            "Epoch 99/200\n",
            "18/18 [==============================] - 0s 3ms/step - loss: 0.4225 - val_loss: 0.4577\n",
            "Epoch 100/200\n",
            "18/18 [==============================] - 0s 3ms/step - loss: 0.4214 - val_loss: 0.4560\n",
            "Epoch 101/200\n",
            "18/18 [==============================] - 0s 3ms/step - loss: 0.4198 - val_loss: 0.4550\n",
            "Epoch 102/200\n",
            "18/18 [==============================] - 0s 3ms/step - loss: 0.4220 - val_loss: 0.4533\n",
            "Epoch 103/200\n",
            "18/18 [==============================] - 0s 3ms/step - loss: 0.4211 - val_loss: 0.4539\n",
            "Epoch 104/200\n",
            "18/18 [==============================] - 0s 2ms/step - loss: 0.4262 - val_loss: 0.4562\n",
            "Epoch 105/200\n",
            "18/18 [==============================] - 0s 2ms/step - loss: 0.4243 - val_loss: 0.4580\n",
            "Epoch 106/200\n",
            "18/18 [==============================] - 0s 2ms/step - loss: 0.4224 - val_loss: 0.4553\n",
            "Epoch 107/200\n",
            "18/18 [==============================] - 0s 2ms/step - loss: 0.4213 - val_loss: 0.4553\n",
            "Epoch 108/200\n",
            "18/18 [==============================] - 0s 2ms/step - loss: 0.4178 - val_loss: 0.4563\n",
            "Epoch 109/200\n",
            "18/18 [==============================] - 0s 2ms/step - loss: 0.4186 - val_loss: 0.4557\n",
            "Epoch 110/200\n",
            "18/18 [==============================] - 0s 2ms/step - loss: 0.4233 - val_loss: 0.4553\n",
            "Epoch 111/200\n",
            "18/18 [==============================] - 0s 2ms/step - loss: 0.4193 - val_loss: 0.4638\n",
            "Epoch 112/200\n",
            "18/18 [==============================] - 0s 2ms/step - loss: 0.4179 - val_loss: 0.4558\n",
            "Epoch 113/200\n",
            "18/18 [==============================] - 0s 2ms/step - loss: 0.4169 - val_loss: 0.4579\n",
            "Epoch 114/200\n",
            "18/18 [==============================] - 0s 2ms/step - loss: 0.4188 - val_loss: 0.4557\n",
            "Epoch 115/200\n",
            "18/18 [==============================] - 0s 2ms/step - loss: 0.4170 - val_loss: 0.4554\n",
            "Epoch 116/200\n",
            "18/18 [==============================] - 0s 3ms/step - loss: 0.4174 - val_loss: 0.4581\n",
            "Epoch 117/200\n",
            "18/18 [==============================] - 0s 2ms/step - loss: 0.4154 - val_loss: 0.4554\n",
            "Epoch 118/200\n",
            "18/18 [==============================] - 0s 3ms/step - loss: 0.4174 - val_loss: 0.4564\n",
            "Epoch 119/200\n",
            "18/18 [==============================] - 0s 3ms/step - loss: 0.4165 - val_loss: 0.4578\n",
            "Epoch 120/200\n",
            "18/18 [==============================] - 0s 2ms/step - loss: 0.4197 - val_loss: 0.4637\n",
            "Epoch 121/200\n",
            "18/18 [==============================] - 0s 3ms/step - loss: 0.4195 - val_loss: 0.4583\n",
            "Epoch 122/200\n",
            "18/18 [==============================] - 0s 2ms/step - loss: 0.4174 - val_loss: 0.4632\n",
            "Epoch 123/200\n",
            "18/18 [==============================] - 0s 3ms/step - loss: 0.4200 - val_loss: 0.4586\n",
            "Epoch 124/200\n",
            "18/18 [==============================] - 0s 3ms/step - loss: 0.4185 - val_loss: 0.4573\n",
            "Epoch 125/200\n",
            "18/18 [==============================] - 0s 2ms/step - loss: 0.4161 - val_loss: 0.4563\n",
            "Epoch 126/200\n",
            "18/18 [==============================] - 0s 2ms/step - loss: 0.4155 - val_loss: 0.4642\n",
            "Epoch 127/200\n",
            "18/18 [==============================] - 0s 2ms/step - loss: 0.4166 - val_loss: 0.4566\n",
            "Epoch 128/200\n",
            "18/18 [==============================] - 0s 2ms/step - loss: 0.4136 - val_loss: 0.4576\n",
            "Epoch 129/200\n",
            "18/18 [==============================] - 0s 3ms/step - loss: 0.4139 - val_loss: 0.4570\n",
            "Epoch 130/200\n",
            "18/18 [==============================] - 0s 2ms/step - loss: 0.4148 - val_loss: 0.4596\n",
            "Epoch 131/200\n",
            "18/18 [==============================] - 0s 3ms/step - loss: 0.4124 - val_loss: 0.4572\n",
            "Epoch 132/200\n",
            "18/18 [==============================] - 0s 2ms/step - loss: 0.4130 - val_loss: 0.4641\n",
            "Epoch 133/200\n",
            "18/18 [==============================] - 0s 3ms/step - loss: 0.4138 - val_loss: 0.4574\n",
            "Epoch 134/200\n",
            "18/18 [==============================] - 0s 3ms/step - loss: 0.4156 - val_loss: 0.4576\n",
            "Epoch 135/200\n",
            "18/18 [==============================] - 0s 2ms/step - loss: 0.4151 - val_loss: 0.4639\n",
            "Epoch 136/200\n",
            "18/18 [==============================] - 0s 2ms/step - loss: 0.4124 - val_loss: 0.4581\n",
            "Epoch 137/200\n",
            "18/18 [==============================] - 0s 2ms/step - loss: 0.4144 - val_loss: 0.4610\n",
            "Epoch 138/200\n",
            "18/18 [==============================] - 0s 2ms/step - loss: 0.4111 - val_loss: 0.4587\n",
            "Epoch 139/200\n",
            "18/18 [==============================] - 0s 3ms/step - loss: 0.4157 - val_loss: 0.4600\n",
            "Epoch 140/200\n",
            "18/18 [==============================] - 0s 3ms/step - loss: 0.4200 - val_loss: 0.4689\n",
            "Epoch 141/200\n",
            "18/18 [==============================] - 0s 2ms/step - loss: 0.4119 - val_loss: 0.4596\n",
            "Epoch 142/200\n",
            "18/18 [==============================] - 0s 2ms/step - loss: 0.4129 - val_loss: 0.4593\n",
            "Epoch 143/200\n",
            "18/18 [==============================] - 0s 3ms/step - loss: 0.4123 - val_loss: 0.4595\n",
            "Epoch 144/200\n",
            "18/18 [==============================] - 0s 3ms/step - loss: 0.4109 - val_loss: 0.4614\n",
            "Epoch 145/200\n",
            "18/18 [==============================] - 0s 2ms/step - loss: 0.4128 - val_loss: 0.4602\n",
            "Epoch 146/200\n",
            "18/18 [==============================] - 0s 3ms/step - loss: 0.4101 - val_loss: 0.4606\n",
            "Epoch 147/200\n",
            "18/18 [==============================] - 0s 4ms/step - loss: 0.4126 - val_loss: 0.4608\n",
            "Epoch 148/200\n",
            "18/18 [==============================] - 0s 2ms/step - loss: 0.4124 - val_loss: 0.4616\n",
            "Epoch 149/200\n",
            "18/18 [==============================] - 0s 2ms/step - loss: 0.4166 - val_loss: 0.4611\n",
            "Epoch 150/200\n",
            "18/18 [==============================] - 0s 2ms/step - loss: 0.4123 - val_loss: 0.4703\n",
            "Epoch 151/200\n",
            "18/18 [==============================] - 0s 3ms/step - loss: 0.4116 - val_loss: 0.4603\n",
            "Epoch 152/200\n",
            "18/18 [==============================] - 0s 3ms/step - loss: 0.4092 - val_loss: 0.4614\n",
            "Epoch 153/200\n",
            "18/18 [==============================] - 0s 3ms/step - loss: 0.4093 - val_loss: 0.4657\n",
            "Epoch 154/200\n",
            "18/18 [==============================] - 0s 4ms/step - loss: 0.4111 - val_loss: 0.4605\n",
            "Epoch 155/200\n",
            "18/18 [==============================] - 0s 3ms/step - loss: 0.4096 - val_loss: 0.4608\n",
            "Epoch 156/200\n",
            "18/18 [==============================] - 0s 4ms/step - loss: 0.4097 - val_loss: 0.4616\n",
            "Epoch 157/200\n",
            "18/18 [==============================] - 0s 3ms/step - loss: 0.4145 - val_loss: 0.4616\n",
            "Epoch 158/200\n",
            "18/18 [==============================] - 0s 3ms/step - loss: 0.4082 - val_loss: 0.4632\n",
            "Epoch 159/200\n",
            "18/18 [==============================] - 0s 2ms/step - loss: 0.4078 - val_loss: 0.4644\n",
            "Epoch 160/200\n",
            "18/18 [==============================] - 0s 2ms/step - loss: 0.4077 - val_loss: 0.4615\n",
            "Epoch 161/200\n",
            "18/18 [==============================] - 0s 2ms/step - loss: 0.4094 - val_loss: 0.4665\n",
            "Epoch 162/200\n",
            "18/18 [==============================] - 0s 2ms/step - loss: 0.4074 - val_loss: 0.4617\n",
            "Epoch 163/200\n",
            "18/18 [==============================] - 0s 3ms/step - loss: 0.4076 - val_loss: 0.4653\n",
            "Epoch 164/200\n",
            "18/18 [==============================] - 0s 2ms/step - loss: 0.4085 - val_loss: 0.4644\n",
            "Epoch 165/200\n",
            "18/18 [==============================] - 0s 2ms/step - loss: 0.4097 - val_loss: 0.4641\n",
            "Epoch 166/200\n",
            "18/18 [==============================] - 0s 4ms/step - loss: 0.4099 - val_loss: 0.4645\n",
            "Epoch 167/200\n",
            "18/18 [==============================] - 0s 3ms/step - loss: 0.4108 - val_loss: 0.4642\n",
            "Epoch 168/200\n",
            "18/18 [==============================] - 0s 2ms/step - loss: 0.4123 - val_loss: 0.4656\n",
            "Epoch 169/200\n",
            "18/18 [==============================] - 0s 2ms/step - loss: 0.4088 - val_loss: 0.4646\n",
            "Epoch 170/200\n",
            "18/18 [==============================] - 0s 4ms/step - loss: 0.4062 - val_loss: 0.4650\n",
            "Epoch 171/200\n",
            "18/18 [==============================] - 0s 3ms/step - loss: 0.4080 - val_loss: 0.4632\n",
            "Epoch 172/200\n",
            "18/18 [==============================] - 0s 3ms/step - loss: 0.4056 - val_loss: 0.4660\n",
            "Epoch 173/200\n",
            "18/18 [==============================] - 0s 3ms/step - loss: 0.4069 - val_loss: 0.4635\n",
            "Epoch 174/200\n",
            "18/18 [==============================] - 0s 3ms/step - loss: 0.4073 - val_loss: 0.4638\n",
            "Epoch 175/200\n",
            "18/18 [==============================] - 0s 4ms/step - loss: 0.4070 - val_loss: 0.4664\n",
            "Epoch 176/200\n",
            "18/18 [==============================] - 0s 2ms/step - loss: 0.4060 - val_loss: 0.4628\n",
            "Epoch 177/200\n",
            "18/18 [==============================] - 0s 4ms/step - loss: 0.4053 - val_loss: 0.4656\n",
            "Epoch 178/200\n",
            "18/18 [==============================] - 0s 3ms/step - loss: 0.4052 - val_loss: 0.4650\n",
            "Epoch 179/200\n",
            "18/18 [==============================] - 0s 3ms/step - loss: 0.4063 - val_loss: 0.4656\n",
            "Epoch 180/200\n",
            "18/18 [==============================] - 0s 3ms/step - loss: 0.4080 - val_loss: 0.4641\n",
            "Epoch 181/200\n",
            "18/18 [==============================] - 0s 2ms/step - loss: 0.4079 - val_loss: 0.4721\n",
            "Epoch 182/200\n",
            "18/18 [==============================] - 0s 3ms/step - loss: 0.4076 - val_loss: 0.4633\n",
            "Epoch 183/200\n",
            "18/18 [==============================] - 0s 2ms/step - loss: 0.4076 - val_loss: 0.4637\n",
            "Epoch 184/200\n",
            "18/18 [==============================] - 0s 2ms/step - loss: 0.4079 - val_loss: 0.4664\n",
            "Epoch 185/200\n",
            "18/18 [==============================] - 0s 2ms/step - loss: 0.4113 - val_loss: 0.4641\n",
            "Epoch 186/200\n",
            "18/18 [==============================] - 0s 3ms/step - loss: 0.4051 - val_loss: 0.4629\n",
            "Epoch 187/200\n",
            "18/18 [==============================] - 0s 3ms/step - loss: 0.4049 - val_loss: 0.4639\n",
            "Epoch 188/200\n",
            "18/18 [==============================] - 0s 4ms/step - loss: 0.4054 - val_loss: 0.4727\n",
            "Epoch 189/200\n",
            "18/18 [==============================] - 0s 3ms/step - loss: 0.4166 - val_loss: 0.4642\n",
            "Epoch 190/200\n",
            "18/18 [==============================] - 0s 2ms/step - loss: 0.4056 - val_loss: 0.4631\n",
            "Epoch 191/200\n",
            "18/18 [==============================] - 0s 2ms/step - loss: 0.4033 - val_loss: 0.4641\n",
            "Epoch 192/200\n",
            "18/18 [==============================] - 0s 2ms/step - loss: 0.4047 - val_loss: 0.4641\n",
            "Epoch 193/200\n",
            "18/18 [==============================] - 0s 2ms/step - loss: 0.4047 - val_loss: 0.4645\n",
            "Epoch 194/200\n",
            "18/18 [==============================] - 0s 3ms/step - loss: 0.4051 - val_loss: 0.4690\n",
            "Epoch 195/200\n",
            "18/18 [==============================] - 0s 2ms/step - loss: 0.4070 - val_loss: 0.4631\n",
            "Epoch 196/200\n",
            "18/18 [==============================] - 0s 3ms/step - loss: 0.4095 - val_loss: 0.4711\n",
            "Epoch 197/200\n",
            "18/18 [==============================] - 0s 2ms/step - loss: 0.4055 - val_loss: 0.4650\n",
            "Epoch 198/200\n",
            "18/18 [==============================] - 0s 3ms/step - loss: 0.4033 - val_loss: 0.4633\n",
            "Epoch 199/200\n",
            "18/18 [==============================] - 0s 2ms/step - loss: 0.4063 - val_loss: 0.4717\n",
            "Epoch 200/200\n",
            "18/18 [==============================] - 0s 3ms/step - loss: 0.4045 - val_loss: 0.4632\n"
          ],
          "name": "stdout"
        },
        {
          "output_type": "execute_result",
          "data": {
            "text/plain": [
              "<tensorflow.python.keras.callbacks.History at 0x7fb073d09090>"
            ]
          },
          "metadata": {
            "tags": []
          },
          "execution_count": 21
        }
      ]
    },
    {
      "cell_type": "code",
      "metadata": {
        "id": "vRKv6aJQ2it4"
      },
      "source": [
        "losses =pd.DataFrame(model.history.history)"
      ],
      "execution_count": 22,
      "outputs": []
    },
    {
      "cell_type": "code",
      "metadata": {
        "colab": {
          "base_uri": "https://localhost:8080/",
          "height": 282
        },
        "id": "9EPsb8ze2ubb",
        "outputId": "427b22ab-4d1f-46f1-a060-715144a2fa89"
      },
      "source": [
        "losses.plot()"
      ],
      "execution_count": 23,
      "outputs": [
        {
          "output_type": "execute_result",
          "data": {
            "text/plain": [
              "<matplotlib.axes._subplots.AxesSubplot at 0x7fb0715a51d0>"
            ]
          },
          "metadata": {
            "tags": []
          },
          "execution_count": 23
        },
        {
          "output_type": "display_data",
          "data": {
            "image/png": "[encoded data removed]",
            "text/plain": [
              "<Figure size 432x288 with 1 Axes>"
            ]
          },
          "metadata": {
            "tags": [],
            "needs_background": "light"
          }
        }
      ]
    },
    {
      "cell_type": "code",
      "metadata": {
        "id": "QE6f01FR2xY8"
      },
      "source": [
        "model =Sequential()\n",
        "\n",
        "model.add(Dense(30,activation='relu'))\n",
        "\n",
        "model.add(Dense(15,activation='relu'))\n",
        "\n",
        "#BINARY CLASSIFICATION\n",
        "model.add(Dense(1,activation='sigmoid'))\n",
        "\n",
        "model.compile(loss='binary_crossentropy',optimizer='adam')"
      ],
      "execution_count": 24,
      "outputs": []
    },
    {
      "cell_type": "code",
      "metadata": {
        "id": "N0A2iY-b3Aut"
      },
      "source": [
        "from tensorflow.keras.callbacks import EarlyStopping"
      ],
      "execution_count": 25,
      "outputs": []
    },
    {
      "cell_type": "code",
      "metadata": {
        "id": "DRN5EA8e3Evn"
      },
      "source": [
        "early_stop= EarlyStopping(monitor='val_loss',mode='min',verbose=1,patience=10)"
      ],
      "execution_count": 26,
      "outputs": []
    },
    {
      "cell_type": "code",
      "metadata": {
        "colab": {
          "base_uri": "https://localhost:8080/"
        },
        "id": "TMx5PpDu3NXN",
        "outputId": "4bfaa563-6fae-4c13-c9c7-826191bffd1e"
      },
      "source": [
        "model.fit(x=X_train,y=y_train,epochs=600,validation_data=(X_test,y_test),\n",
        "         callbacks=[early_stop] )"
      ],
      "execution_count": 27,
      "outputs": [
        {
          "output_type": "stream",
          "text": [
            "Epoch 1/600\n",
            "18/18 [==============================] - 0s 9ms/step - loss: 0.6919 - val_loss: 0.6724\n",
            "Epoch 2/600\n",
            "18/18 [==============================] - 0s 3ms/step - loss: 0.6667 - val_loss: 0.6612\n",
            "Epoch 3/600\n",
            "18/18 [==============================] - 0s 2ms/step - loss: 0.6586 - val_loss: 0.6558\n",
            "Epoch 4/600\n",
            "18/18 [==============================] - 0s 3ms/step - loss: 0.6523 - val_loss: 0.6506\n",
            "Epoch 5/600\n",
            "18/18 [==============================] - 0s 3ms/step - loss: 0.6468 - val_loss: 0.6449\n",
            "Epoch 6/600\n",
            "18/18 [==============================] - 0s 3ms/step - loss: 0.6406 - val_loss: 0.6393\n",
            "Epoch 7/600\n",
            "18/18 [==============================] - 0s 2ms/step - loss: 0.6349 - val_loss: 0.6339\n",
            "Epoch 8/600\n",
            "18/18 [==============================] - 0s 3ms/step - loss: 0.6285 - val_loss: 0.6268\n",
            "Epoch 9/600\n",
            "18/18 [==============================] - 0s 2ms/step - loss: 0.6217 - val_loss: 0.6194\n",
            "Epoch 10/600\n",
            "18/18 [==============================] - 0s 2ms/step - loss: 0.6139 - val_loss: 0.6112\n",
            "Epoch 11/600\n",
            "18/18 [==============================] - 0s 2ms/step - loss: 0.6061 - val_loss: 0.6035\n",
            "Epoch 12/600\n",
            "18/18 [==============================] - 0s 3ms/step - loss: 0.5997 - val_loss: 0.5960\n",
            "Epoch 13/600\n",
            "18/18 [==============================] - 0s 3ms/step - loss: 0.5920 - val_loss: 0.5892\n",
            "Epoch 14/600\n",
            "18/18 [==============================] - 0s 3ms/step - loss: 0.5857 - val_loss: 0.5827\n",
            "Epoch 15/600\n",
            "18/18 [==============================] - 0s 3ms/step - loss: 0.5782 - val_loss: 0.5763\n",
            "Epoch 16/600\n",
            "18/18 [==============================] - 0s 3ms/step - loss: 0.5744 - val_loss: 0.5702\n",
            "Epoch 17/600\n",
            "18/18 [==============================] - 0s 3ms/step - loss: 0.5666 - val_loss: 0.5654\n",
            "Epoch 18/600\n",
            "18/18 [==============================] - 0s 3ms/step - loss: 0.5613 - val_loss: 0.5599\n",
            "Epoch 19/600\n",
            "18/18 [==============================] - 0s 2ms/step - loss: 0.5563 - val_loss: 0.5549\n",
            "Epoch 20/600\n",
            "18/18 [==============================] - 0s 3ms/step - loss: 0.5516 - val_loss: 0.5498\n",
            "Epoch 21/600\n",
            "18/18 [==============================] - 0s 2ms/step - loss: 0.5470 - val_loss: 0.5449\n",
            "Epoch 22/600\n",
            "18/18 [==============================] - 0s 3ms/step - loss: 0.5427 - val_loss: 0.5406\n",
            "Epoch 23/600\n",
            "18/18 [==============================] - 0s 2ms/step - loss: 0.5386 - val_loss: 0.5363\n",
            "Epoch 24/600\n",
            "18/18 [==============================] - 0s 3ms/step - loss: 0.5357 - val_loss: 0.5315\n",
            "Epoch 25/600\n",
            "18/18 [==============================] - 0s 3ms/step - loss: 0.5301 - val_loss: 0.5268\n",
            "Epoch 26/600\n",
            "18/18 [==============================] - 0s 2ms/step - loss: 0.5260 - val_loss: 0.5225\n",
            "Epoch 27/600\n",
            "18/18 [==============================] - 0s 3ms/step - loss: 0.5232 - val_loss: 0.5185\n",
            "Epoch 28/600\n",
            "18/18 [==============================] - 0s 4ms/step - loss: 0.5185 - val_loss: 0.5143\n",
            "Epoch 29/600\n",
            "18/18 [==============================] - 0s 2ms/step - loss: 0.5139 - val_loss: 0.5102\n",
            "Epoch 30/600\n",
            "18/18 [==============================] - 0s 2ms/step - loss: 0.5127 - val_loss: 0.5059\n",
            "Epoch 31/600\n",
            "18/18 [==============================] - 0s 2ms/step - loss: 0.5060 - val_loss: 0.5010\n",
            "Epoch 32/600\n",
            "18/18 [==============================] - 0s 2ms/step - loss: 0.5059 - val_loss: 0.5007\n",
            "Epoch 33/600\n",
            "18/18 [==============================] - 0s 3ms/step - loss: 0.5006 - val_loss: 0.4944\n",
            "Epoch 34/600\n",
            "18/18 [==============================] - 0s 2ms/step - loss: 0.4997 - val_loss: 0.4929\n",
            "Epoch 35/600\n",
            "18/18 [==============================] - 0s 3ms/step - loss: 0.4984 - val_loss: 0.4903\n",
            "Epoch 36/600\n",
            "18/18 [==============================] - 0s 3ms/step - loss: 0.4935 - val_loss: 0.4900\n",
            "Epoch 37/600\n",
            "18/18 [==============================] - 0s 2ms/step - loss: 0.4902 - val_loss: 0.4826\n",
            "Epoch 38/600\n",
            "18/18 [==============================] - 0s 2ms/step - loss: 0.4858 - val_loss: 0.4802\n",
            "Epoch 39/600\n",
            "18/18 [==============================] - 0s 3ms/step - loss: 0.4850 - val_loss: 0.4767\n",
            "Epoch 40/600\n",
            "18/18 [==============================] - 0s 3ms/step - loss: 0.4763 - val_loss: 0.4745\n",
            "Epoch 41/600\n",
            "18/18 [==============================] - 0s 3ms/step - loss: 0.4762 - val_loss: 0.4717\n",
            "Epoch 42/600\n",
            "18/18 [==============================] - 0s 2ms/step - loss: 0.4724 - val_loss: 0.4701\n",
            "Epoch 43/600\n",
            "18/18 [==============================] - 0s 3ms/step - loss: 0.4739 - val_loss: 0.4739\n",
            "Epoch 44/600\n",
            "18/18 [==============================] - 0s 2ms/step - loss: 0.4701 - val_loss: 0.4652\n",
            "Epoch 45/600\n",
            "18/18 [==============================] - 0s 2ms/step - loss: 0.4710 - val_loss: 0.4648\n",
            "Epoch 46/600\n",
            "18/18 [==============================] - 0s 3ms/step - loss: 0.4652 - val_loss: 0.4669\n",
            "Epoch 47/600\n",
            "18/18 [==============================] - 0s 2ms/step - loss: 0.4620 - val_loss: 0.4609\n",
            "Epoch 48/600\n",
            "18/18 [==============================] - 0s 2ms/step - loss: 0.4632 - val_loss: 0.4684\n",
            "Epoch 49/600\n",
            "18/18 [==============================] - 0s 3ms/step - loss: 0.4594 - val_loss: 0.4616\n",
            "Epoch 50/600\n",
            "18/18 [==============================] - 0s 3ms/step - loss: 0.4619 - val_loss: 0.4616\n",
            "Epoch 51/600\n",
            "18/18 [==============================] - 0s 2ms/step - loss: 0.4618 - val_loss: 0.4608\n",
            "Epoch 52/600\n",
            "18/18 [==============================] - 0s 3ms/step - loss: 0.4609 - val_loss: 0.4568\n",
            "Epoch 53/600\n",
            "18/18 [==============================] - 0s 2ms/step - loss: 0.4563 - val_loss: 0.4575\n",
            "Epoch 54/600\n",
            "18/18 [==============================] - 0s 3ms/step - loss: 0.4539 - val_loss: 0.4543\n",
            "Epoch 55/600\n",
            "18/18 [==============================] - 0s 2ms/step - loss: 0.4537 - val_loss: 0.4537\n",
            "Epoch 56/600\n",
            "18/18 [==============================] - 0s 3ms/step - loss: 0.4553 - val_loss: 0.4522\n",
            "Epoch 57/600\n",
            "18/18 [==============================] - 0s 2ms/step - loss: 0.4509 - val_loss: 0.4562\n",
            "Epoch 58/600\n",
            "18/18 [==============================] - 0s 3ms/step - loss: 0.4593 - val_loss: 0.4564\n",
            "Epoch 59/600\n",
            "18/18 [==============================] - 0s 2ms/step - loss: 0.4591 - val_loss: 0.4506\n",
            "Epoch 60/600\n",
            "18/18 [==============================] - 0s 3ms/step - loss: 0.4598 - val_loss: 0.4550\n",
            "Epoch 61/600\n",
            "18/18 [==============================] - 0s 2ms/step - loss: 0.4597 - val_loss: 0.4519\n",
            "Epoch 62/600\n",
            "18/18 [==============================] - 0s 3ms/step - loss: 0.4533 - val_loss: 0.4556\n",
            "Epoch 63/600\n",
            "18/18 [==============================] - 0s 2ms/step - loss: 0.4501 - val_loss: 0.4501\n",
            "Epoch 64/600\n",
            "18/18 [==============================] - 0s 2ms/step - loss: 0.4487 - val_loss: 0.4586\n",
            "Epoch 65/600\n",
            "18/18 [==============================] - 0s 2ms/step - loss: 0.4505 - val_loss: 0.4488\n",
            "Epoch 66/600\n",
            "18/18 [==============================] - 0s 2ms/step - loss: 0.4480 - val_loss: 0.4482\n",
            "Epoch 67/600\n",
            "18/18 [==============================] - 0s 2ms/step - loss: 0.4471 - val_loss: 0.4528\n",
            "Epoch 68/600\n",
            "18/18 [==============================] - 0s 3ms/step - loss: 0.4491 - val_loss: 0.4547\n",
            "Epoch 69/600\n",
            "18/18 [==============================] - 0s 3ms/step - loss: 0.4459 - val_loss: 0.4475\n",
            "Epoch 70/600\n",
            "18/18 [==============================] - 0s 3ms/step - loss: 0.4535 - val_loss: 0.4506\n",
            "Epoch 71/600\n",
            "18/18 [==============================] - 0s 3ms/step - loss: 0.4501 - val_loss: 0.4521\n",
            "Epoch 72/600\n",
            "18/18 [==============================] - 0s 3ms/step - loss: 0.4481 - val_loss: 0.4462\n",
            "Epoch 73/600\n",
            "18/18 [==============================] - 0s 3ms/step - loss: 0.4406 - val_loss: 0.4498\n",
            "Epoch 74/600\n",
            "18/18 [==============================] - 0s 3ms/step - loss: 0.4415 - val_loss: 0.4469\n",
            "Epoch 75/600\n",
            "18/18 [==============================] - 0s 2ms/step - loss: 0.4424 - val_loss: 0.4542\n",
            "Epoch 76/600\n",
            "18/18 [==============================] - 0s 2ms/step - loss: 0.4436 - val_loss: 0.4477\n",
            "Epoch 77/600\n",
            "18/18 [==============================] - 0s 2ms/step - loss: 0.4433 - val_loss: 0.4456\n",
            "Epoch 78/600\n",
            "18/18 [==============================] - 0s 4ms/step - loss: 0.4384 - val_loss: 0.4471\n",
            "Epoch 79/600\n",
            "18/18 [==============================] - 0s 2ms/step - loss: 0.4388 - val_loss: 0.4460\n",
            "Epoch 80/600\n",
            "18/18 [==============================] - 0s 2ms/step - loss: 0.4384 - val_loss: 0.4462\n",
            "Epoch 81/600\n",
            "18/18 [==============================] - 0s 3ms/step - loss: 0.4396 - val_loss: 0.4455\n",
            "Epoch 82/600\n",
            "18/18 [==============================] - 0s 4ms/step - loss: 0.4394 - val_loss: 0.4554\n",
            "Epoch 83/600\n",
            "18/18 [==============================] - 0s 4ms/step - loss: 0.4437 - val_loss: 0.4464\n",
            "Epoch 84/600\n",
            "18/18 [==============================] - 0s 3ms/step - loss: 0.4390 - val_loss: 0.4482\n",
            "Epoch 85/600\n",
            "18/18 [==============================] - 0s 3ms/step - loss: 0.4373 - val_loss: 0.4473\n",
            "Epoch 86/600\n",
            "18/18 [==============================] - 0s 4ms/step - loss: 0.4369 - val_loss: 0.4457\n",
            "Epoch 87/600\n",
            "18/18 [==============================] - 0s 4ms/step - loss: 0.4427 - val_loss: 0.4546\n",
            "Epoch 88/600\n",
            "18/18 [==============================] - 0s 3ms/step - loss: 0.4372 - val_loss: 0.4456\n",
            "Epoch 89/600\n",
            "18/18 [==============================] - 0s 3ms/step - loss: 0.4369 - val_loss: 0.4445\n",
            "Epoch 90/600\n",
            "18/18 [==============================] - 0s 4ms/step - loss: 0.4383 - val_loss: 0.4466\n",
            "Epoch 91/600\n",
            "18/18 [==============================] - 0s 3ms/step - loss: 0.4366 - val_loss: 0.4441\n",
            "Epoch 92/600\n",
            "18/18 [==============================] - 0s 4ms/step - loss: 0.4363 - val_loss: 0.4494\n",
            "Epoch 93/600\n",
            "18/18 [==============================] - 0s 3ms/step - loss: 0.4352 - val_loss: 0.4455\n",
            "Epoch 94/600\n",
            "18/18 [==============================] - 0s 3ms/step - loss: 0.4359 - val_loss: 0.4451\n",
            "Epoch 95/600\n",
            "18/18 [==============================] - 0s 3ms/step - loss: 0.4371 - val_loss: 0.4562\n",
            "Epoch 96/600\n",
            "18/18 [==============================] - 0s 3ms/step - loss: 0.4426 - val_loss: 0.4446\n",
            "Epoch 97/600\n",
            "18/18 [==============================] - 0s 2ms/step - loss: 0.4338 - val_loss: 0.4501\n",
            "Epoch 98/600\n",
            "18/18 [==============================] - 0s 3ms/step - loss: 0.4354 - val_loss: 0.4451\n",
            "Epoch 99/600\n",
            "18/18 [==============================] - 0s 2ms/step - loss: 0.4436 - val_loss: 0.4449\n",
            "Epoch 100/600\n",
            "18/18 [==============================] - 0s 2ms/step - loss: 0.4370 - val_loss: 0.4465\n",
            "Epoch 101/600\n",
            "18/18 [==============================] - 0s 3ms/step - loss: 0.4325 - val_loss: 0.4467\n",
            "Epoch 00101: early stopping\n"
          ],
          "name": "stdout"
        },
        {
          "output_type": "execute_result",
          "data": {
            "text/plain": [
              "<tensorflow.python.keras.callbacks.History at 0x7fb070533b90>"
            ]
          },
          "metadata": {
            "tags": []
          },
          "execution_count": 27
        }
      ]
    },
    {
      "cell_type": "code",
      "metadata": {
        "colab": {
          "base_uri": "https://localhost:8080/",
          "height": 283
        },
        "id": "JfFL09X43QjC",
        "outputId": "6bf7ccf5-3454-4142-f17c-47f82bca4327"
      },
      "source": [
        "model_loss= pd.DataFrame(model.history.history)\n",
        "model_loss.plot()"
      ],
      "execution_count": 28,
      "outputs": [
        {
          "output_type": "execute_result",
          "data": {
            "text/plain": [
              "<matplotlib.axes._subplots.AxesSubplot at 0x7fb070391d50>"
            ]
          },
          "metadata": {
            "tags": []
          },
          "execution_count": 28
        },
        {
          "output_type": "display_data",
          "data": {
            "image/png": "[encoded data removed]",
            "text/plain": [
              "<Figure size 432x288 with 1 Axes>"
            ]
          },
          "metadata": {
            "tags": [],
            "needs_background": "light"
          }
        }
      ]
    },
    {
      "cell_type": "code",
      "metadata": {
        "colab": {
          "base_uri": "https://localhost:8080/"
        },
        "id": "ImigCqT23lZF",
        "outputId": "ed9af135-77b5-475d-fb31-3f8671906e72"
      },
      "source": [
        "predictions =model.predict_classes(X_test)"
      ],
      "execution_count": 29,
      "outputs": [
        {
          "output_type": "stream",
          "text": [
            "/usr/local/lib/python3.7/dist-packages/tensorflow/python/keras/engine/sequential.py:455: UserWarning: `model.predict_classes()` is deprecated and will be removed after 2021-01-01. Please use instead:* `np.argmax(model.predict(x), axis=-1)`,   if your model does multi-class classification   (e.g. if it uses a `softmax` last-layer activation).* `(model.predict(x) > 0.5).astype(\"int32\")`,   if your model does binary classification   (e.g. if it uses a `sigmoid` last-layer activation).\n",
            "  warnings.warn('`model.predict_classes()` is deprecated and '\n"
          ],
          "name": "stderr"
        }
      ]
    },
    {
      "cell_type": "code",
      "metadata": {
        "id": "19DbdW-L38wv"
      },
      "source": [
        "from sklearn.metrics import classification_report,confusion_matrix"
      ],
      "execution_count": 30,
      "outputs": []
    },
    {
      "cell_type": "code",
      "metadata": {
        "colab": {
          "base_uri": "https://localhost:8080/"
        },
        "id": "Ctdh6ahK4BEO",
        "outputId": "cbc1ba56-cc43-464c-b114-adf5dd5fc0f5"
      },
      "source": [
        "print(classification_report(y_test,predictions))"
      ],
      "execution_count": 31,
      "outputs": [
        {
          "output_type": "stream",
          "text": [
            "              precision    recall  f1-score   support\n",
            "\n",
            "           0       0.82      0.86      0.84       124\n",
            "           1       0.73      0.66      0.69        68\n",
            "\n",
            "    accuracy                           0.79       192\n",
            "   macro avg       0.77      0.76      0.77       192\n",
            "weighted avg       0.79      0.79      0.79       192\n",
            "\n"
          ],
          "name": "stdout"
        }
      ]
    },
    {
      "cell_type": "code",
      "metadata": {
        "colab": {
          "base_uri": "https://localhost:8080/"
        },
        "id": "ZAAXolgY4GSq",
        "outputId": "3e92186c-3003-4c71-e157-9a28abd93305"
      },
      "source": [
        "print(confusion_matrix(y_test,predictions))"
      ],
      "execution_count": 32,
      "outputs": [
        {
          "output_type": "stream",
          "text": [
            "[[107  17]\n",
            " [ 23  45]]\n"
          ],
          "name": "stdout"
        }
      ]
    },
    {
      "cell_type": "code",
      "metadata": {
        "id": "yVHXKySj4Qj9"
      },
      "source": [
        ""
      ],
      "execution_count": null,
      "outputs": []
    }
  ]
}